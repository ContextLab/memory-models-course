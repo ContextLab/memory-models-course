{
  "cells": [
    {
      "cell_type": "markdown",
      "metadata": {
        "colab_type": "text",
        "id": "view-in-github"
      },
      "source": [
        "<a href=\"https://colab.research.google.com/github/ContextLab/memory-models-course/blob/main/content/assignments/Assignment_2%3ASearch_of_Associative_Memory_Model/sam_assignment_template.ipynb\" target=\"_parent\"><img src=\"https://colab.research.google.com/assets/colab-badge.svg\" alt=\"Open In Colab\"/></a>"
      ]
    },
    {
      "cell_type": "markdown",
      "metadata": {},
      "source": [
        "# Submission Template\n",
        "\n",
        "This notebook provides a suggested starter template for completing the [SAM model assignment](https://contextlab.github.io/memory-models-course/assignments/Assignment_2%3ASearch_of_Associative_Memory_Model/README.html).\n",
        "\n",
        "You should submit your assignment by uploading your completed notebook to [Canvas](https://canvas.dartmouth.edu/courses/71051/assignments/517354).  Please ensure that your notebook runs without errors in [Google Colaboratory](https://colab.research.google.com/)."
      ]
    },
    {
      "cell_type": "markdown",
      "metadata": {
        "id": "ZNp6i_sXKA8r"
      },
      "source": [
        "Imports"
      ]
    },
    {
      "cell_type": "code",
      "execution_count": 1,
      "metadata": {
        "id": "rh59uGAx-N5O"
      },
      "outputs": [],
      "source": [
        "import pandas as pd\n",
        "import numpy as np\n",
        "import matplotlib.pyplot as plt\n",
        "import seaborn as sns\n",
        "\n",
        "import requests\n",
        "import os\n",
        "from tempfile import NamedTemporaryFile"
      ]
    },
    {
      "cell_type": "markdown",
      "metadata": {},
      "source": [
        "Download dataset and store as `sequence` objects containing the `presented` and `recalled` items for each trial.  The sequences are stored in nested dictionaries in the form\n",
        "```\n",
        "dict[list length][presentation rate]\n",
        "```"
      ]
    },
    {
      "cell_type": "code",
      "execution_count": 3,
      "metadata": {},
      "outputs": [],
      "source": [
        "class item(object):\n",
        "    idx = 1\n",
        "\n",
        "    def __init__(self, val=None):\n",
        "        if val is None:\n",
        "            self.id = item.idx\n",
        "            item.idx += 1\n",
        "        else:\n",
        "            self.id = val\n",
        "\n",
        "\n",
        "class sequence(object):\n",
        "    def __init__(self, items):\n",
        "        self.items = items\n",
        "\n",
        "\n",
        "def load_recall_data():\n",
        "    base_url = \"https://raw.githubusercontent.com/ContextLab/memory-models-course/refs/heads/main/content/assignments/Assignment_2%3ASearch_of_Associative_Memory_Model/Murd62%20data/\"\n",
        "    filenames = [\"fr10-2.txt\", \"fr15-2.txt\", \"fr20-1.txt\", \"fr20-2.txt\", \"fr30-1.txt\", \"fr40-1.txt\"]\n",
        "\n",
        "    presented = {}\n",
        "    recalled = {}\n",
        "\n",
        "    for filename in filenames:\n",
        "        list_len, pres_rate = map(int, filename.replace(\".txt\", \"\").replace(\"fr\", \"\").split(\"-\"))\n",
        "        if list_len not in presented:\n",
        "            presented[list_len] = {}\n",
        "            recalled[list_len] = {}\n",
        "        if pres_rate not in presented[list_len]:\n",
        "            presented[list_len][pres_rate] = []\n",
        "            recalled[list_len][pres_rate] = []\n",
        "\n",
        "        # Download the file\n",
        "        url = base_url + filename\n",
        "        response = requests.get(url)\n",
        "        response.raise_for_status()\n",
        "        lines = response.text.strip().split(\"\\n\")\n",
        "\n",
        "        for line in lines:\n",
        "            recall_ids = [int(x) for x in line.strip().split() if int(x) != 88]\n",
        "            recall_seq = sequence([item(val) for val in recall_ids])\n",
        "            presented_seq = sequence([item(val) for val in range(1, list_len + 1)])\n",
        "\n",
        "            presented[list_len][pres_rate].append(presented_seq)\n",
        "            recalled[list_len][pres_rate].append(recall_seq)\n",
        "\n",
        "    return presented, recalled\n",
        "\n",
        "presented, recalled = load_recall_data()"
      ]
    },
    {
      "cell_type": "markdown",
      "metadata": {
        "id": "atpXuzOFKDSb"
      },
      "source": [
        "Basic skeleton for the SAM model"
      ]
    },
    {
      "cell_type": "code",
      "execution_count": 5,
      "metadata": {
        "id": "PUXuEy_3-q3E"
      },
      "outputs": [],
      "source": [
        "class STS(object):\n",
        "  def __init__(self, r, q, s_f, s_b, max_items=None, lts=None):\n",
        "    self.r = r\n",
        "    self.q = q\n",
        "    if lts is None:\n",
        "      self.LTS = LTS(max_items, s_f, s_b)\n",
        "    else:\n",
        "      self.LTS = lts\n",
        "    self.items = []\n",
        "    self.entry_times = np.zeros(1, r, dtype=np.int32)\n",
        "\n",
        "  def present(self, x):\n",
        "    # p(displacement) = q(q - q)^(i - 1) / (1 - (1 - q))^r\n",
        "    #     i: relative age of item\n",
        "    #  q, r: model params\n",
        "    #\n",
        "    # check current capacity; if available capacity, add item to STS.  else displace items.\n",
        "    pass\n",
        "\n",
        "\n",
        "class LTS(object):\n",
        "  def __init__(self, max_items, s_f, s_b):\n",
        "    self.max_items = max_items\n",
        "    self.s_f = s_f\n",
        "    self.s_b = s_b\n",
        "    self.S = np.zeros((max_items, max_items), dtype=np.float32)\n",
        "    self.context = np.zeros(max_items, dtype=np.float32)\n",
        "    self.previous_recall = None\n",
        "\n",
        "  def update(self, items):\n",
        "    # update self.S and self.context\n",
        "    pass\n",
        "\n",
        "class SAM(object):\n",
        "  def __init__(self, W_c, W_e, M_1, M_2, r, q, max_items=100):\n",
        "    self.W_c = W_c\n",
        "    self.W_e = W_e\n",
        "    self.M_1 = M_1\n",
        "    self.M_2 = M_2\n",
        "    self.m1_count = 0\n",
        "    self.m2_count = 0\n",
        "    self.r = r\n",
        "    self.q = q\n",
        "\n",
        "    self.STS = STS(r, q, max_items)\n",
        "    self.LTS = LTS(max_items)\n",
        "\n",
        "  def present(self, x):\n",
        "    self.STS.present(x)\n",
        "    self.LTS.update(self.STS.items)\n",
        "\n",
        "  def retrieve(self):  # retrieve a *single item*\n",
        "    # if there's anything in STS, retrieve and remove it\n",
        "    # else:\n",
        "    #    - sample (from context and/or context + prev item) until we get something other than the previous_recall.\n",
        "    #             (if previous_recall is the only item left, return None)\n",
        "    #    - recall (given cue strength):\n",
        "    #       - if successful, reset m1_count and m2_count, set previous_recall to item, return sampled item\n",
        "    #       - otherwise increment m1_count or m2_count.  if either exceed M_1/M2, return None\n",
        "    pass"
      ]
    },
    {
      "cell_type": "markdown",
      "metadata": {
        "id": "ipssh_MdXWF8"
      },
      "source": [
        "Other tasks:\n",
        "  - Fit params to [Murdock (1962) dataset](https://github.com/ContextLab/memory-models-course/tree/main/content/assignments/Assignment_2%3ASearch_of_Associative_Memory_Model/Murd62%20data) that you downloaded with the `load_data` function.\n",
        "     - You'll need to define a \"loss\" function.  I suggest computing MSE for one or more behavioral curves, computed for a subset of the Murdock (1962) participants/lists\n",
        "     - I suggest using [skopt.optimizer.gp_minimize](https://scikit-optimize.github.io/stable/modules/generated/skopt.optimizer.gp_minimize.html#skopt.optimizer.gp_minimize) to estimate the model parameters.\n",
        "  - Create observed/predicted plots for held-out data:\n",
        "     - p(first recall)\n",
        "     - p(recall)\n",
        "     - lag-CRP"
      ]
    }
  ],
  "metadata": {
    "colab": {
      "include_colab_link": true,
      "provenance": []
    },
    "kernelspec": {
      "display_name": "memory-course",
      "language": "python",
      "name": "memory-course"
    },
    "language_info": {
      "codemirror_mode": {
        "name": "ipython",
        "version": 3
      },
      "file_extension": ".py",
      "mimetype": "text/x-python",
      "name": "python",
      "nbconvert_exporter": "python",
      "pygments_lexer": "ipython3",
      "version": "3.11.0"
    }
  },
  "nbformat": 4,
  "nbformat_minor": 0
}
