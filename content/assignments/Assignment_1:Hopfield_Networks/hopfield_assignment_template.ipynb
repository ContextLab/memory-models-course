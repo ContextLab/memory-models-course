{
  "cells": [
    {
      "cell_type": "markdown",
      "id": "d2c467d4",
      "metadata": {
        "colab_type": "text",
        "id": "view-in-github"
      },
      "source": [
        "<a href=\"https://colab.research.google.com/github/ContextLab/memory-models-course/blob/main/content/assignments/Assignment_1%3AHopfield_Networks/hopfield_assignment_template.ipynb\" target=\"_parent\"><img src=\"https://colab.research.google.com/assets/colab-badge.svg\" alt=\"Open In Colab\"/></a>"
      ]
    },
    {
      "cell_type": "markdown",
      "id": "4112dba2",
      "metadata": {
        "id": "4112dba2"
      },
      "source": [
        "# Submission Template\n",
        "\n",
        "This notebook provides a suggested starter template for completing the [Hopfield network assignment](https://contextlab.github.io/memory-models-course/assignments/Assignment_1%3AHopfield_Networks/README.html).\n",
        "\n",
        "You should submit your assignment by uploading your completed notebook to [Canvas](https://canvas.dartmouth.edu/courses/71051/assignments/517353).  Please ensure that your notebook runs without errors in [Google Colaborator](https://colab.research.google.com/)."
      ]
    },
    {
      "cell_type": "markdown",
      "id": "13a772fc",
      "metadata": {
        "id": "13a772fc"
      },
      "source": [
        "## Setup\n",
        "\n",
        "Import necessary libraries and define helper functions."
      ]
    },
    {
      "cell_type": "code",
      "execution_count": null,
      "id": "3487ab4e",
      "metadata": {
        "id": "3487ab4e"
      },
      "outputs": [],
      "source": [
        "import numpy as np\n",
        "import matplotlib.pyplot as plt\n",
        "\n",
        "# Define any helper functions here"
      ]
    },
    {
      "cell_type": "markdown",
      "id": "a38cd155",
      "metadata": {
        "id": "a38cd155"
      },
      "source": [
        "## Task 1: Memory Storage and Retrieval\n",
        "\n",
        "Implement the Hebbian learning rule and update dynamics."
      ]
    },
    {
      "cell_type": "code",
      "execution_count": null,
      "id": "49999427",
      "metadata": {
        "id": "49999427"
      },
      "outputs": [],
      "source": [
        "# TODO: Implement memory storage (Hebbian rule) and retrieval update rule here"
      ]
    },
    {
      "cell_type": "markdown",
      "id": "ea862e41",
      "metadata": {
        "id": "ea862e41"
      },
      "source": [
        "## Task 2: Small Network Test\n",
        "\n",
        "Use a small network with $N = 5$ to test memory storage and retrieval."
      ]
    },
    {
      "cell_type": "code",
      "execution_count": null,
      "id": "3e5fb216",
      "metadata": {
        "id": "3e5fb216"
      },
      "outputs": [],
      "source": [
        "# TODO: Encode and test small network with noisy inputs"
      ]
    },
    {
      "cell_type": "markdown",
      "id": "5c170918",
      "metadata": {
        "id": "5c170918"
      },
      "source": [
        "## Task 3: Evaluate Storage Capacity\n",
        "\n",
        "Test how performance varies with network size and number of memories."
      ]
    },
    {
      "cell_type": "code",
      "execution_count": null,
      "id": "97192fac",
      "metadata": {
        "id": "97192fac"
      },
      "outputs": [],
      "source": [
        "# TODO: Run multiple trials and generate heatmap + expectation plot"
      ]
    },
    {
      "cell_type": "markdown",
      "id": "84937332",
      "metadata": {
        "id": "84937332"
      },
      "source": [
        "## Task 4: Cued Recall\n",
        "\n",
        "Simulate associative memory with cue-response pairs."
      ]
    },
    {
      "cell_type": "code",
      "execution_count": null,
      "id": "51395b97",
      "metadata": {
        "id": "51395b97"
      },
      "outputs": [],
      "source": [
        "# TODO: Implement A-B memory pairs and test cued retrieval"
      ]
    },
    {
      "cell_type": "markdown",
      "id": "76339e63",
      "metadata": {
        "id": "76339e63"
      },
      "source": [
        "## Task 5: Contextual Drift\n",
        "\n",
        "Simulate sequential memories with gradually shifting contexts."
      ]
    },
    {
      "cell_type": "code",
      "execution_count": null,
      "id": "be69a9df",
      "metadata": {
        "id": "be69a9df"
      },
      "outputs": [],
      "source": [
        "# TODO: Implement drifting context memory and analyze retrieval bias"
      ]
    },
    {
      "cell_type": "markdown",
      "id": "43278d97",
      "metadata": {
        "id": "43278d97"
      },
      "source": [
        "## Discussion\n",
        "\n",
        "Summarize your findings, observations, and any interesting results."
      ]
    }
  ],
  "metadata": {
    "colab": {
      "include_colab_link": true,
      "provenance": []
    },
    "language_info": {
      "name": "python"
    }
  },
  "nbformat": 4,
  "nbformat_minor": 5
}
