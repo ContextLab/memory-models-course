{
  "nbformat": 4,
  "nbformat_minor": 0,
  "metadata": {
    "colab": {
      "provenance": [],
      "include_colab_link": true
    },
    "kernelspec": {
      "name": "python3",
      "display_name": "Python 3"
    },
    "language_info": {
      "name": "python"
    }
  },
  "cells": [
    {
      "cell_type": "markdown",
      "metadata": {
        "id": "view-in-github",
        "colab_type": "text"
      },
      "source": [
        "<a href=\"https://colab.research.google.com/github/ContextLab/memory-models-course/blob/main/content/Assignment_2%3ASearch_of_Associative_Memory_Model/sam_assignment_template.ipynb\" target=\"_parent\"><img src=\"https://colab.research.google.com/assets/colab-badge.svg\" alt=\"Open In Colab\"/></a>"
      ]
    },
    {
      "cell_type": "markdown",
      "source": [
        "Imports"
      ],
      "metadata": {
        "id": "ZNp6i_sXKA8r"
      }
    },
    {
      "cell_type": "code",
      "execution_count": null,
      "metadata": {
        "id": "rh59uGAx-N5O"
      },
      "outputs": [],
      "source": [
        "import pandas as pd\n",
        "import numpy as np\n",
        "import matplotlib.pyplot as plt\n",
        "import seaborn as sns"
      ]
    },
    {
      "cell_type": "markdown",
      "source": [
        "Basic skeleton for the SAM model"
      ],
      "metadata": {
        "id": "atpXuzOFKDSb"
      }
    },
    {
      "cell_type": "code",
      "source": [
        "class item(object):\n",
        "  count = 0\n",
        "\n",
        "  def __init__(self):\n",
        "    self.id = count\n",
        "    count += 1\n",
        "\n",
        "\n",
        "class sequence(object):\n",
        "  def __init__(self, items):\n",
        "    self.items = items\n",
        "\n",
        "\n",
        "class STS(object):\n",
        "  def __init__(self, r, q, s_f, s_b, max_items=None, lts=None):\n",
        "    self.r = r\n",
        "    self.q = q\n",
        "    if lts is None:\n",
        "      self.LTS = LTS(max_items, s_f, s_b)\n",
        "    else:\n",
        "      self.LTS = lts\n",
        "    self.items = []\n",
        "    self.entry_times = np.zeros(1, r, dtype=np.int32)\n",
        "\n",
        "  def present(self, x):\n",
        "    # p(displacement) = q(q - q)^(i - 1) / (1 - (1 - q))^r\n",
        "    #     i: relative age of item\n",
        "    #  q, r: model params\n",
        "    #\n",
        "    # check current capacity; if available capacity, add item to STS.  else displace items.\n",
        "    pass\n",
        "\n",
        "\n",
        "class LTS(object):\n",
        "  def __init__(self, max_items, s_f, s_b):\n",
        "    self.max_items = max_items\n",
        "    self.s_f = s_f\n",
        "    self.s_b = s_b\n",
        "    self.S = np.zeros((max_items, max_items), dtype=np.float32)\n",
        "    self.context = np.zeros(max_items, dtype=np.float32)\n",
        "    self.previous_recall = None\n",
        "\n",
        "  def update(self, items):\n",
        "    # update self.S and self.context\n",
        "    pass\n",
        "\n",
        "class SAM(object):\n",
        "  def __init__(self, W_c, W_e, M_1, M_2, r, q, max_items=100):\n",
        "    self.W_c = W_c\n",
        "    self.W_e = W_e\n",
        "    self.M_1 = M_1\n",
        "    self.M_2 = M_2\n",
        "    self.m1_count = 0\n",
        "    self.m2_count = 0\n",
        "    self.r = r\n",
        "    self.q = q\n",
        "\n",
        "    self.STS = STS(r, q, max_items)\n",
        "    self.LTS = LTS(max_items)\n",
        "\n",
        "  def present(self, x):\n",
        "    self.STS.present(x)\n",
        "    self.LTS.update(self.STS.items)\n",
        "\n",
        "  def retrieve(self):  # retrieve a *single item*\n",
        "    # if there's anything in STS, retrieve and remove it\n",
        "    # else:\n",
        "    #    - sample (from context and/or context + prev item) until we get something other than the previous_recall.\n",
        "    #             (if previous_recall is the only item left, return None)\n",
        "    #    - recall (given cue strength):\n",
        "    #       - if successful, reset m1_count and m2_count, set previous_recall to item, return sampled item\n",
        "    #       - otherwise increment m1_count or m2_count.  if either exceed M_1/M2, return None"
      ],
      "metadata": {
        "id": "PUXuEy_3-q3E"
      },
      "execution_count": null,
      "outputs": []
    },
    {
      "cell_type": "markdown",
      "source": [
        "Other tasks:\n",
        "  - Fit params to [Murdock (1962) dataset](https://memory.psych.upenn.edu/files/pubs/Murd62.data.tgz)\n",
        "     - Need to define a \"loss\" function.  I suggest computing MSE for one or more behavioral curves, computed for a subset of the Murdock (1962) participants/lists\n",
        "     - I suggest using [scipy.optimize.minimize](https://docs.scipy.org/doc/scipy/reference/generated/scipy.optimize.minimize.html) to estimate the model parameters.\n",
        "  - Create observed/predicted plots for held-out data:\n",
        "     - p(first recall)\n",
        "     - p(recall)\n",
        "     - lag-CRP"
      ],
      "metadata": {
        "id": "ipssh_MdXWF8"
      }
    }
  ]
}