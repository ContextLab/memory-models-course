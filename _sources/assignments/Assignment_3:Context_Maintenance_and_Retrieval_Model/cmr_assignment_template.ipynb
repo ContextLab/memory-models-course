{
  "cells": [
    {
      "cell_type": "markdown",
      "metadata": {
        "id": "view-in-github",
        "colab_type": "text"
      },
      "source": [
        "<a href=\"https://colab.research.google.com/github/ContextLab/memory-models-course/blob/main/content/assignments/Assignment_3%3AContext_Maintenance_and_Retrieval_Model/cmr_assignment_template.ipynb\" target=\"_parent\"><img src=\"https://colab.research.google.com/assets/colab-badge.svg\" alt=\"Open In Colab\"/></a>"
      ]
    },
    {
      "cell_type": "markdown",
      "id": "1a163c99",
      "metadata": {
        "id": "1a163c99"
      },
      "source": [
        "# Submission Template\n",
        "\n",
        "This notebook provides a suggested starter template for completing the [CMR model assignment](https://contextlab.github.io/memory-models-course/assignments/Assignment_3%3AContext_Maintenance_and_Retrieval_Model/README.html).\n",
        "\n",
        "You should submit your assignment by uploading your completed notebook to [Canvas](https://canvas.dartmouth.edu/courses/71051/assignments/517355).  Please ensure that your notebook runs without errors in [Google Colaboratory](https://colab.research.google.com/)."
      ]
    },
    {
      "cell_type": "code",
      "execution_count": 1,
      "id": "137eb31f",
      "metadata": {
        "id": "137eb31f"
      },
      "outputs": [],
      "source": [
        "import pandas as pd\n",
        "import numpy as np\n",
        "import matplotlib.pyplot as plt\n",
        "import seaborn as sns\n",
        "\n",
        "import requests\n",
        "import os\n",
        "\n",
        "from scipy.io import loadmat\n",
        "from tempfile import NamedTemporaryFile"
      ]
    },
    {
      "cell_type": "markdown",
      "id": "1539bcff",
      "metadata": {
        "id": "1539bcff"
      },
      "source": [
        "Download the stimuli and behavioral data, returned as a dictionary with the following fields:\n",
        "  - 'words': a list of 1297 strings (one per word in the stimulus pool)\n",
        "  - 'sem_mat': a 1297 x 1297 NumPy array of semantic similarities (range: -1 to 1) between every pair of words in the stimulus pool\n",
        "  - 'presented_items': a number-of-trials by list-length array of items for each presented list (represented using 0-indexed indices in the word pool)\n",
        "  - 'recalled_items': a number-of-trials by max-number-of-recalled-items array of recalled items from each list (represented using 0-indexed indices in the word pool).  -1s correspond to extra-list intrusions.  Trials are right-padded with nans as needed.\n",
        "  - 'task': a number-of-trials by list-length array of task labels for each presented item (0: size task; 1: animacy task)\n",
        "  - 'session': session labels for each trial (a NumPy array of length number-of-trials)\n",
        "  - 'subject': subject labels for each trial (a NumPy array of length number-of-trials)\n",
        "  - 'list_type': list type labels for each trial (a NumPy array of length number-of-trials; 0: all items studied using the size task; 1: all items studied using the animacy task; 2: task-shift list)\n",
        "  - 'list_length': a scalar value containing the list length (an integer)"
      ]
    },
    {
      "cell_type": "code",
      "execution_count": 2,
      "id": "b32a7915",
      "metadata": {
        "id": "b32a7915"
      },
      "outputs": [],
      "source": [
        "def load_data():\n",
        "    # Download the files\n",
        "    base_url = \"https://raw.githubusercontent.com/ContextLab/memory-models-course/refs/heads/main/content/assignments/Assignment_3%3AContext_Maintenance_and_Retrieval_Model/PolyEtal09%20data/\"\n",
        "\n",
        "    # download the stimuli\n",
        "    response = requests.get(base_url + \"stimuli.mat\")\n",
        "    response.raise_for_status()\n",
        "    with NamedTemporaryFile(delete=False) as temp_file:\n",
        "        temp_file.write(response.content)\n",
        "        stimuli_data = loadmat(temp_file.name)\n",
        "        words = [str(x[0][0]) for x in stimuli_data['tfr_wp']]\n",
        "        sem_mat = stimuli_data['sem_mat']\n",
        "    os.remove(temp_file.name)\n",
        "\n",
        "    # download the behavioral data\n",
        "    response = requests.get(base_url + \"behavior.mat\")\n",
        "    response.raise_for_status()\n",
        "    with NamedTemporaryFile(delete=False) as temp_file:\n",
        "        temp_file.write(response.content)\n",
        "        behavioral_data = loadmat(temp_file.name)\n",
        "        presented_items = behavioral_data['data'][0][0][0][0][0]['pres_itemnos']\n",
        "        recalled_items = behavioral_data['data'][0][0][0][0][0]['rec_itemnos']\n",
        "        task = behavioral_data['data'][0][0][0][0][0]['pres_task']\n",
        "        session = behavioral_data['data'][0][0][0][0][0]['session'].flatten()\n",
        "        subject = behavioral_data['data'][0][0][0][0][0]['subject'].flatten()\n",
        "        list_type = behavioral_data['data'][0][0][0][0][0]['listType'].flatten()\n",
        "    os.remove(temp_file.name)\n",
        "\n",
        "    return {'words': words,\n",
        "            'sem_mat': sem_mat,\n",
        "            'presented_items': presented_items - 1,\n",
        "            'recalled_items': recalled_items - 1,\n",
        "            'task': task,\n",
        "            'session': session,\n",
        "            'subject': subject,\n",
        "            'list_type': list_type,\n",
        "            'list_length': int(behavioral_data['data'][0][0][0][0][0]['listLength'].flatten()[0])}\n",
        "\n",
        "data = load_data()"
      ]
    },
    {
      "cell_type": "code",
      "source": [],
      "metadata": {
        "id": "IjVqOOsZEM4q"
      },
      "id": "IjVqOOsZEM4q",
      "execution_count": null,
      "outputs": []
    }
  ],
  "metadata": {
    "kernelspec": {
      "display_name": "memory-course",
      "language": "python",
      "name": "memory-course"
    },
    "language_info": {
      "codemirror_mode": {
        "name": "ipython",
        "version": 3
      },
      "file_extension": ".py",
      "mimetype": "text/x-python",
      "name": "python",
      "nbconvert_exporter": "python",
      "pygments_lexer": "ipython3",
      "version": "3.11.0"
    },
    "colab": {
      "provenance": [],
      "include_colab_link": true
    }
  },
  "nbformat": 4,
  "nbformat_minor": 5
}